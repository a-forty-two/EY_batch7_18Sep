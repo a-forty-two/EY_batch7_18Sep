{
  "nbformat": 4,
  "nbformat_minor": 0,
  "metadata": {
    "colab": {
      "provenance": [],
      "authorship_tag": "ABX9TyOipNf3HKuyrW5Rk5hiATE4",
      "include_colab_link": true
    },
    "kernelspec": {
      "name": "python3",
      "display_name": "Python 3"
    },
    "language_info": {
      "name": "python"
    }
  },
  "cells": [
    {
      "cell_type": "markdown",
      "metadata": {
        "id": "view-in-github",
        "colab_type": "text"
      },
      "source": [
        "<a href=\"https://colab.research.google.com/github/a-forty-two/EY_batch7_18Sep/blob/main/18_Sep_003_Prompt_to_vectors.ipynb\" target=\"_parent\"><img src=\"https://colab.research.google.com/assets/colab-badge.svg\" alt=\"Open In Colab\"/></a>"
      ]
    },
    {
      "cell_type": "code",
      "execution_count": 4,
      "metadata": {
        "colab": {
          "base_uri": "https://localhost:8080/"
        },
        "id": "gheZoJi6RQn8",
        "outputId": "c9128525-143c-4b34-e715-08338f730bf3"
      },
      "outputs": [
        {
          "output_type": "stream",
          "name": "stdout",
          "text": [
            "[[[ 0.04541453  0.00402486 -0.026542    0.0261949   0.00156729\n",
            "   -0.00535465 -0.02339387 -0.02675479  0.03450099 -0.03090794\n",
            "   -0.04377985  0.03621334  0.02253569  0.0264951   0.04830134\n",
            "    0.04542384 -0.04568294 -0.0226303  -0.01630311  0.02994725\n",
            "   -0.0016538   0.02245096  0.0291951   0.03259406 -0.03620728\n",
            "   -0.04025648  0.00978067 -0.03199743 -0.04396448 -0.03483861\n",
            "    0.0003037   0.00999179]\n",
            "  [ 0.02919364 -0.03650986  0.02208037  0.04377318  0.04052712\n",
            "   -0.00721516  0.02622456  0.01812081  0.00705117  0.0071482\n",
            "    0.04687066 -0.0076002  -0.02555623 -0.03356542  0.01267971\n",
            "    0.01261456  0.04352519 -0.03622093 -0.02933971  0.04323119\n",
            "   -0.00910418  0.01833421  0.02402841 -0.01305645  0.01054131\n",
            "   -0.03989094  0.00851686  0.00602835  0.04351305 -0.03810128\n",
            "   -0.0427594   0.03241802]\n",
            "  [-0.03054016 -0.00941895 -0.03519312 -0.00741794 -0.04461757\n",
            "   -0.00534736 -0.02975506  0.01031101 -0.04788115 -0.02107145\n",
            "    0.02580327 -0.01485776 -0.02335208 -0.0078805   0.02792482\n",
            "    0.0023415  -0.04696847 -0.02635088 -0.03227253  0.0132557\n",
            "   -0.02357922 -0.0104088  -0.00638065 -0.04348518 -0.00021744\n",
            "    0.0378557   0.04000758  0.01382281  0.02520964  0.02493267\n",
            "    0.03293517  0.02407669]\n",
            "  [ 0.00909382  0.03224227 -0.02601846  0.00657343 -0.00166596\n",
            "   -0.04412419  0.01952696  0.01885161 -0.01010718  0.03379546\n",
            "   -0.02138648 -0.04035176  0.03656893  0.04179022 -0.03431012\n",
            "    0.02683305  0.02657774 -0.0116145  -0.04612051  0.01343634\n",
            "   -0.04311138 -0.04287313 -0.00511203  0.01575473 -0.020164\n",
            "   -0.01368738  0.02859903  0.0456256   0.03104279 -0.02475332\n",
            "   -0.02253934 -0.02248698]\n",
            "  [-0.00013303  0.00570143 -0.0445203  -0.0154904  -0.03872403\n",
            "    0.04024227  0.04398818  0.0259019  -0.03193458 -0.01027224\n",
            "   -0.04238002  0.00087204  0.04381816 -0.02279539 -0.01135457\n",
            "    0.04890189  0.02061472 -0.01493747 -0.02352982  0.03324198\n",
            "    0.01720862 -0.00876538  0.01175069  0.03299261 -0.0287467\n",
            "   -0.03051565  0.04297784  0.00385405  0.02537799  0.03913433\n",
            "    0.00727373  0.01251643]]]\n"
          ]
        }
      ],
      "source": [
        "# prompt: model with just embedding layer. Objective is to show the output of embedding layer. Start with an english sentence and convert to words.\n",
        "\n",
        "import tensorflow as tf\n",
        "\n",
        "# Sample English sentence\n",
        "sentence = \"This is a sample sentence.\"\n",
        "\n",
        "# Convert sentence to words\n",
        "words = sentence.lower().split()\n",
        "\n",
        "# Create a vocabulary\n",
        "vocabulary = set(words)\n",
        "word_to_index = {word: index for index, word in enumerate(vocabulary)}\n",
        "\n",
        "# Embedding dimension\n",
        "embedding_dim = 32\n",
        "\n",
        "# Create an embedding layer\n",
        "embedding_layer = tf.keras.layers.Embedding(len(vocabulary), embedding_dim)\n",
        "\n",
        "# Convert words to indices\n",
        "indices = [word_to_index[word] for word in words]\n",
        "\n",
        "# Get the embeddings for the words\n",
        "embeddings = embedding_layer(tf.constant([indices]))\n",
        "\n",
        "# Print the embeddings\n",
        "print(embeddings.numpy())\n"
      ]
    },
    {
      "cell_type": "code",
      "source": [],
      "metadata": {
        "id": "wqs-ceDpRbU3"
      },
      "execution_count": null,
      "outputs": []
    }
  ]
}